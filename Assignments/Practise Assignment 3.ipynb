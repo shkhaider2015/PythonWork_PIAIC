{
 "cells": [
  {
   "cell_type": "markdown",
   "metadata": {},
   "source": [
    "# Q1:"
   ]
  },
  {
   "cell_type": "markdown",
   "metadata": {},
   "source": [
    "Think of at least three kinds of your favorite pizza. Store these pizza names in a list, and then use a for loop to print the name of each pizza."
   ]
  },
  {
   "cell_type": "code",
   "execution_count": 1,
   "metadata": {},
   "outputs": [
    {
     "name": "stdout",
     "output_type": "stream",
     "text": [
      "Chicken Pizza is my favorite\n",
      "Beaf Pizza is my favorite\n",
      "Mutton Pizza is my favorite\n"
     ]
    }
   ],
   "source": [
    "pizza_list = [\"Chicken Pizza\", \"Beaf Pizza\", \"Mutton Pizza\"]\n",
    "\n",
    "## for loop\n",
    "for x in pizza_list:\n",
    "    print(x + \" is my favorite\")"
   ]
  },
  {
   "cell_type": "code",
   "execution_count": null,
   "metadata": {},
   "outputs": [],
   "source": []
  },
  {
   "cell_type": "code",
   "execution_count": null,
   "metadata": {},
   "outputs": [],
   "source": []
  },
  {
   "cell_type": "markdown",
   "metadata": {},
   "source": [
    "# Q2"
   ]
  },
  {
   "cell_type": "markdown",
   "metadata": {},
   "source": [
    "Start with your last question , Modify your for loop to print a sentence using the name of the pizza\n",
    "instead of printing just the name of the pizza. For each pizza you should\n",
    "have one line of output containing a simple statement like I like pepperoni\n",
    "pizza."
   ]
  },
  {
   "cell_type": "code",
   "execution_count": 2,
   "metadata": {},
   "outputs": [
    {
     "name": "stdout",
     "output_type": "stream",
     "text": [
      "I like Chicken Pizza\n",
      "I like Beaf Pizza\n",
      "I like Mutton Pizza\n"
     ]
    }
   ],
   "source": [
    "for y in pizza_list:\n",
    "    print(f\"I like {y}\")"
   ]
  },
  {
   "cell_type": "code",
   "execution_count": null,
   "metadata": {},
   "outputs": [],
   "source": []
  },
  {
   "cell_type": "code",
   "execution_count": null,
   "metadata": {},
   "outputs": [],
   "source": []
  },
  {
   "cell_type": "markdown",
   "metadata": {},
   "source": [
    "# Q3:"
   ]
  },
  {
   "cell_type": "markdown",
   "metadata": {},
   "source": [
    "Use a for loop to print the numbers from 1 to 20,\n",
    "inclusive."
   ]
  },
  {
   "cell_type": "code",
   "execution_count": 3,
   "metadata": {},
   "outputs": [
    {
     "name": "stdout",
     "output_type": "stream",
     "text": [
      "1\n",
      "2\n",
      "3\n",
      "4\n",
      "5\n",
      "6\n",
      "7\n",
      "8\n",
      "9\n",
      "10\n",
      "11\n",
      "12\n",
      "13\n",
      "14\n",
      "15\n",
      "16\n",
      "17\n",
      "18\n",
      "19\n",
      "20\n"
     ]
    }
   ],
   "source": [
    "for num in range(20):\n",
    "    num = num + 1\n",
    "    print(num, end='\\n')"
   ]
  },
  {
   "cell_type": "code",
   "execution_count": null,
   "metadata": {},
   "outputs": [],
   "source": []
  },
  {
   "cell_type": "code",
   "execution_count": null,
   "metadata": {},
   "outputs": [],
   "source": []
  },
  {
   "cell_type": "markdown",
   "metadata": {},
   "source": [
    "# Q4:"
   ]
  },
  {
   "cell_type": "markdown",
   "metadata": {},
   "source": [
    "Use the third argument of the range() function to make a list\n",
    "of the odd numbers from 1 to 20. Use a for loop to print each number."
   ]
  },
  {
   "cell_type": "code",
   "execution_count": 4,
   "metadata": {},
   "outputs": [
    {
     "name": "stdout",
     "output_type": "stream",
     "text": [
      "1\n",
      "3\n",
      "5\n",
      "7\n",
      "9\n",
      "11\n",
      "13\n",
      "15\n",
      "17\n",
      "19\n"
     ]
    }
   ],
   "source": [
    "for i in range(1,20,2):\n",
    "    print(i, end='\\n')"
   ]
  },
  {
   "cell_type": "code",
   "execution_count": null,
   "metadata": {},
   "outputs": [],
   "source": []
  },
  {
   "cell_type": "code",
   "execution_count": null,
   "metadata": {},
   "outputs": [],
   "source": []
  },
  {
   "cell_type": "markdown",
   "metadata": {},
   "source": [
    "# Q5:"
   ]
  },
  {
   "cell_type": "markdown",
   "metadata": {},
   "source": [
    "Make a list of the multiples of 3 from 3 to 30. Use a for loop to\n",
    "print the numbers in your list."
   ]
  },
  {
   "cell_type": "code",
   "execution_count": 5,
   "metadata": {},
   "outputs": [
    {
     "name": "stdout",
     "output_type": "stream",
     "text": [
      "3\n",
      "6\n",
      "9\n",
      "12\n",
      "15\n",
      "18\n",
      "21\n",
      "24\n",
      "27\n",
      "30\n"
     ]
    }
   ],
   "source": [
    "multiple_of_three = []\n",
    "for i in range(1,30,1):\n",
    "    i = i + 1\n",
    "    if i%3 == 0:\n",
    "        multiple_of_three.append(i)\n",
    "        \n",
    "for j in multiple_of_three:\n",
    "    print(j , end='\\n')\n",
    "        "
   ]
  },
  {
   "cell_type": "code",
   "execution_count": null,
   "metadata": {},
   "outputs": [],
   "source": []
  },
  {
   "cell_type": "code",
   "execution_count": null,
   "metadata": {},
   "outputs": [],
   "source": []
  },
  {
   "cell_type": "code",
   "execution_count": null,
   "metadata": {},
   "outputs": [],
   "source": []
  },
  {
   "cell_type": "markdown",
   "metadata": {},
   "source": [
    "# Q6:"
   ]
  },
  {
   "cell_type": "markdown",
   "metadata": {},
   "source": [
    "A number raised to the third power is called a cube. For example,\n",
    "the cube of 2 is written as 2**3 in Python. Make a list of the first 10 cubes (that\n",
    "is, the cube of each integer from 1 through 10), and use a for loop to print out\n",
    "the value of each cube"
   ]
  },
  {
   "cell_type": "code",
   "execution_count": 6,
   "metadata": {},
   "outputs": [
    {
     "name": "stdout",
     "output_type": "stream",
     "text": [
      "The cube of 1 is 1\n",
      "The cube of 2 is 8\n",
      "The cube of 3 is 27\n",
      "The cube of 4 is 64\n",
      "The cube of 5 is 125\n",
      "The cube of 6 is 216\n",
      "The cube of 7 is 343\n",
      "The cube of 8 is 512\n",
      "The cube of 9 is 729\n",
      "The cube of 10 is 1000\n"
     ]
    }
   ],
   "source": [
    "for i in range(10):\n",
    "    i+=1\n",
    "    print(f\"The cube of {i} is {i**3}\", end='\\n')"
   ]
  },
  {
   "cell_type": "code",
   "execution_count": null,
   "metadata": {},
   "outputs": [],
   "source": []
  },
  {
   "cell_type": "code",
   "execution_count": null,
   "metadata": {},
   "outputs": [],
   "source": []
  },
  {
   "cell_type": "code",
   "execution_count": null,
   "metadata": {},
   "outputs": [],
   "source": []
  },
  {
   "cell_type": "markdown",
   "metadata": {},
   "source": [
    "# Q7:"
   ]
  },
  {
   "cell_type": "markdown",
   "metadata": {},
   "source": [
    "###### Make a python program that conatains your nine favourite dishes in a list called foods.\n",
    "\n",
    "###### Print the message, The first three items in the list are:. \n",
    "###### Then use a slice to print the first three items from that program’s list.\n",
    "\n",
    "###### Print the message, Three items from the middle of the list are:\n",
    "###### Use a slice to print three items from the middle of the list.\n",
    "\n",
    "###### Print the message, The last three items in the list are:\n",
    "###### Use a slice to print the last three items in the list."
   ]
  },
  {
   "cell_type": "code",
   "execution_count": 7,
   "metadata": {},
   "outputs": [
    {
     "name": "stdout",
     "output_type": "stream",
     "text": [
      "The First Three Items Are from Rice ['Biryani', 'Pulaow', 'Zarda']\n",
      "The middle three items are spicy ['Qorma', 'Karahi', 'Nihari']\n",
      "The last three items are sweets ['Rasmalai', 'Faloodah', 'Icecream']\n"
     ]
    }
   ],
   "source": [
    "foods = [\"Biryani\", \"Pulaow\", \"Zarda\", \"Qorma\", \"Karahi\", \"Nihari\", \"Rasmalai\", \"Faloodah\", \"Icecream\"]\n",
    "\n",
    "print(f'The First Three Items Are from Rice {foods[slice(0,3)]}')\n",
    "\n",
    "print(f\"The middle three items are spicy {foods[slice(3,6)]}\")\n",
    "\n",
    "print(f\"The last three items are sweets {foods[slice(6,9)]}\")\n"
   ]
  },
  {
   "cell_type": "code",
   "execution_count": null,
   "metadata": {},
   "outputs": [],
   "source": []
  },
  {
   "cell_type": "code",
   "execution_count": null,
   "metadata": {},
   "outputs": [],
   "source": []
  },
  {
   "cell_type": "code",
   "execution_count": null,
   "metadata": {},
   "outputs": [],
   "source": []
  },
  {
   "cell_type": "code",
   "execution_count": null,
   "metadata": {},
   "outputs": [],
   "source": []
  },
  {
   "cell_type": "code",
   "execution_count": null,
   "metadata": {},
   "outputs": [],
   "source": []
  },
  {
   "cell_type": "code",
   "execution_count": null,
   "metadata": {},
   "outputs": [],
   "source": []
  },
  {
   "cell_type": "markdown",
   "metadata": {},
   "source": [
    "# Q8:"
   ]
  },
  {
   "cell_type": "markdown",
   "metadata": {},
   "source": [
    "### Start with your program from your last Question8.\n",
    "###### Make a copy of the list of foods, and call it friend_foods.\n",
    "###### Then, do the following:\n",
    "######    Add a new dish to the original list.\n",
    "######    Add a different dish to the list friend_foodss.\n",
    "######    Prove that you have two separate lists. \n",
    "###### Print the message, My favorite pizzas are: and then use a for loop to print the first list. \n",
    "###### Print the message,\n",
    "###### My friend’s favorite foods are:, and then use a for loop to print the second list.\n",
    "    \n",
    "##### NOTE: Make sure each new dish is stored in the appropriate list."
   ]
  },
  {
   "cell_type": "code",
   "execution_count": 8,
   "metadata": {},
   "outputs": [
    {
     "name": "stdout",
     "output_type": "stream",
     "text": [
      "Both sets are different\n",
      "My favorite dishes are ['Biryani', 'Pulaow', 'Zarda', 'Qorma', 'Karahi', 'Nihari', 'Rasmalai', 'Faloodah', 'Icecream', 'Whitw Karahi']\n",
      "My friend favorite dishes are ['Biryani', 'Pulaow', 'Zarda', 'Qorma', 'Karahi', 'Nihari', 'Rasmalai', 'Faloodah', 'Icecream', 'Qulfi']\n"
     ]
    }
   ],
   "source": [
    "friend_foods = foods.copy()\n",
    "\n",
    "foods.append(\"Whitw Karahi\")\n",
    "friend_foods.append(\"Qulfi\")\n",
    "if set(friend_foods) == set(foods):\n",
    "    print(\"Both sets are same\")\n",
    "else:\n",
    "    print(\"Both sets are different\")\n",
    "print(f\"My favorite dishes are {foods}\")\n",
    "print(f\"My friend favorite dishes are {friend_foods}\")\n"
   ]
  },
  {
   "cell_type": "code",
   "execution_count": null,
   "metadata": {},
   "outputs": [],
   "source": []
  },
  {
   "cell_type": "code",
   "execution_count": null,
   "metadata": {},
   "outputs": [],
   "source": []
  },
  {
   "cell_type": "code",
   "execution_count": null,
   "metadata": {},
   "outputs": [],
   "source": []
  },
  {
   "cell_type": "code",
   "execution_count": null,
   "metadata": {},
   "outputs": [],
   "source": []
  },
  {
   "cell_type": "code",
   "execution_count": null,
   "metadata": {},
   "outputs": [],
   "source": [
    " "
   ]
  },
  {
   "cell_type": "code",
   "execution_count": null,
   "metadata": {},
   "outputs": [],
   "source": []
  },
  {
   "cell_type": "markdown",
   "metadata": {},
   "source": [
    "# Q9:"
   ]
  },
  {
   "cell_type": "markdown",
   "metadata": {},
   "source": [
    "Take a user input from console line.Store it in a variable called Alien_color.\n",
    "\n",
    "If the alien’s color is red, print a statement that the player just earned 5 points for shooting the alien.\n",
    "\n",
    "If the alien’s color isn’t green, print a statement that the player just earned 10 points.\n",
    "\n",
    "If the alien's color isn't red or green , print a statment :, Alien is no more....."
   ]
  },
  {
   "cell_type": "code",
   "execution_count": 10,
   "metadata": {},
   "outputs": [
    {
     "name": "stdout",
     "output_type": "stream",
     "text": [
      "Enter red or green : red\n",
      "The player just earned 5 points for shooting the alien.\n"
     ]
    }
   ],
   "source": [
    "user_input = input(\"Enter red or green : \")\n",
    "if user_input == 'red':\n",
    "    print('The player just earned 5 points for shooting the alien.')\n",
    "elif user_input == 'green':\n",
    "    print(\"The player just earned 10 points.\")\n",
    "else:\n",
    "    print(\"Alien is no more.....\")"
   ]
  },
  {
   "cell_type": "code",
   "execution_count": 12,
   "metadata": {},
   "outputs": [
    {
     "name": "stdout",
     "output_type": "stream",
     "text": [
      "Enter red or green : green\n",
      "The player just earned 10 points.\n"
     ]
    }
   ],
   "source": [
    "user_input = input(\"Enter red or green : \")\n",
    "if user_input == 'red':\n",
    "    print('The player just earned 5 points for shooting the alien.')\n",
    "elif user_input == 'green':\n",
    "    print(\"The player just earned 10 points.\")\n",
    "else:\n",
    "    print(\"Alien is no more.....\")"
   ]
  },
  {
   "cell_type": "code",
   "execution_count": 13,
   "metadata": {},
   "outputs": [
    {
     "name": "stdout",
     "output_type": "stream",
     "text": [
      "Enter red or green : yellow\n",
      "Alien is no more.....\n"
     ]
    }
   ],
   "source": [
    "user_input = input(\"Enter red or green : \")\n",
    "if user_input == 'red':\n",
    "    print('The player just earned 5 points for shooting the alien.')\n",
    "elif user_input == 'green':\n",
    "    print(\"The player just earned 10 points.\")\n",
    "else:\n",
    "    print(\"Alien is no more.....\")"
   ]
  },
  {
   "cell_type": "code",
   "execution_count": null,
   "metadata": {},
   "outputs": [],
   "source": []
  },
  {
   "cell_type": "markdown",
   "metadata": {},
   "source": [
    "# Q10:"
   ]
  },
  {
   "cell_type": "markdown",
   "metadata": {},
   "source": [
    "Write an if-elif-else chain that determines a person’s\n",
    "stage of life. Set a value for the variable age, and then:\n",
    "    \n",
    "•\t If the person is less than 2 years old, print a message that the person is a baby.\n",
    "\n",
    "•\t If the person is at least 2 years old but less than 4, print a message that the person is a toddler.\n",
    "\n",
    "•\t If the person is at least 4 years old but less than 13, print a message that the person is a kid.\n",
    "\n",
    "•\t If the person is at least 13 years old but less than 20, print a message that the person is a teenager.\n",
    "\n",
    "•\t If the person is at least 20 years old but less than 65, print a message that the person is an adult.\n",
    "\n",
    "•\t If the person is age 65 or older, print a message that the person is an elder."
   ]
  },
  {
   "cell_type": "code",
   "execution_count": 14,
   "metadata": {},
   "outputs": [
    {
     "name": "stdout",
     "output_type": "stream",
     "text": [
      "the person is an adult.\n"
     ]
    }
   ],
   "source": [
    "age = 25\n",
    "\n",
    "if age >= 65:\n",
    "    print('the person is an elder.')\n",
    "elif age >= 20:\n",
    "    print('the person is an adult.')\n",
    "elif age >= 13:\n",
    "    print('the person is a teenager.')\n",
    "elif age >= 4:\n",
    "    print('the person is a kid.')\n",
    "elif age >= 2:\n",
    "    print('the person is a toddler.')\n",
    "else:\n",
    "    print('the person is a baby.')"
   ]
  },
  {
   "cell_type": "code",
   "execution_count": 15,
   "metadata": {},
   "outputs": [
    {
     "name": "stdout",
     "output_type": "stream",
     "text": [
      "the person is an elder.\n"
     ]
    }
   ],
   "source": [
    "age = 77\n",
    "\n",
    "if age >= 65:\n",
    "    print('the person is an elder.')\n",
    "elif age >= 20:\n",
    "    print('the person is an adult.')\n",
    "elif age >= 13:\n",
    "    print('the person is a teenager.')\n",
    "elif age >= 4:\n",
    "    print('the person is a kid.')\n",
    "elif age >= 2:\n",
    "    print('the person is a toddler.')\n",
    "else:\n",
    "    print('the person is a baby.')"
   ]
  },
  {
   "cell_type": "code",
   "execution_count": 16,
   "metadata": {},
   "outputs": [
    {
     "name": "stdout",
     "output_type": "stream",
     "text": [
      "the person is a teenager.\n"
     ]
    }
   ],
   "source": [
    "age = 17\n",
    "\n",
    "if age >= 65:\n",
    "    print('the person is an elder.')\n",
    "elif age >= 20:\n",
    "    print('the person is an adult.')\n",
    "elif age >= 13:\n",
    "    print('the person is a teenager.')\n",
    "elif age >= 4:\n",
    "    print('the person is a kid.')\n",
    "elif age >= 2:\n",
    "    print('the person is a toddler.')\n",
    "else:\n",
    "    print('the person is a baby.')"
   ]
  },
  {
   "cell_type": "code",
   "execution_count": 17,
   "metadata": {},
   "outputs": [
    {
     "name": "stdout",
     "output_type": "stream",
     "text": [
      "the person is a kid.\n"
     ]
    }
   ],
   "source": [
    "age = 9\n",
    "\n",
    "if age >= 65:\n",
    "    print('the person is an elder.')\n",
    "elif age >= 20:\n",
    "    print('the person is an adult.')\n",
    "elif age >= 13:\n",
    "    print('the person is a teenager.')\n",
    "elif age >= 4:\n",
    "    print('the person is a kid.')\n",
    "elif age >= 2:\n",
    "    print('the person is a toddler.')\n",
    "else:\n",
    "    print('the person is a baby.')"
   ]
  },
  {
   "cell_type": "code",
   "execution_count": 18,
   "metadata": {},
   "outputs": [
    {
     "name": "stdout",
     "output_type": "stream",
     "text": [
      "the person is a toddler.\n"
     ]
    }
   ],
   "source": [
    "age = 3\n",
    "\n",
    "if age >= 65:\n",
    "    print('the person is an elder.')\n",
    "elif age >= 20:\n",
    "    print('the person is an adult.')\n",
    "elif age >= 13:\n",
    "    print('the person is a teenager.')\n",
    "elif age >= 4:\n",
    "    print('the person is a kid.')\n",
    "elif age >= 2:\n",
    "    print('the person is a toddler.')\n",
    "else:\n",
    "    print('the person is a baby.')"
   ]
  },
  {
   "cell_type": "code",
   "execution_count": 19,
   "metadata": {},
   "outputs": [
    {
     "name": "stdout",
     "output_type": "stream",
     "text": [
      "the person is a baby.\n"
     ]
    }
   ],
   "source": [
    "age = 1.5\n",
    "\n",
    "if age >= 65:\n",
    "    print('the person is an elder.')\n",
    "elif age >= 20:\n",
    "    print('the person is an adult.')\n",
    "elif age >= 13:\n",
    "    print('the person is a teenager.')\n",
    "elif age >= 4:\n",
    "    print('the person is a kid.')\n",
    "elif age >= 2:\n",
    "    print('the person is a toddler.')\n",
    "else:\n",
    "    print('the person is a baby.')"
   ]
  },
  {
   "cell_type": "markdown",
   "metadata": {},
   "source": [
    "# Q11:"
   ]
  },
  {
   "cell_type": "markdown",
   "metadata": {},
   "source": [
    "Do the following to create a program that simulates how websites ensure that everyone has a unique username.\n",
    "\n",
    "•\t Make a list of five or more usernames called current_users.\n",
    "\n",
    "•\t Make another list of five usernames called new_users. \n",
    "Make sure one or two of the new usernames are also in the current_users list.\n",
    "\n",
    "•\t Loop through the new_users list to see if each new username has already been used. \n",
    "If it has, print a message that the person will need to enter a new username. \n",
    "If a username has not been used, print a message saying that the username is available.\n",
    "\n",
    "•\t Make sure your comparison is case insensitive. If 'John' has been used, 'JOHN' should not be accepted."
   ]
  },
  {
   "cell_type": "code",
   "execution_count": 22,
   "metadata": {},
   "outputs": [
    {
     "name": "stdout",
     "output_type": "stream",
     "text": [
      "The shakeel is availabe\n",
      "The shahid is availabe\n",
      "The shabbir is availabe\n",
      "the person sada need to enter another username\n",
      "the person umaima need to enter another username\n"
     ]
    }
   ],
   "source": [
    "current_users = ['umaima', 'dua', 'sada', 'himna', 'areeba']\n",
    "new_users = ['shakeel', 'shahid', 'shabbir', 'sada', 'umaima']\n",
    "\n",
    "## umaima and sada are common in both lists\n",
    "\n",
    "for new_user in new_users:\n",
    "    if new_user in current_users:\n",
    "        print(f'the person {new_user} need to enter another username')\n",
    "    else:\n",
    "        print(f'The {new_user} is availabe')"
   ]
  },
  {
   "cell_type": "code",
   "execution_count": null,
   "metadata": {},
   "outputs": [],
   "source": []
  },
  {
   "cell_type": "code",
   "execution_count": null,
   "metadata": {},
   "outputs": [],
   "source": []
  },
  {
   "cell_type": "code",
   "execution_count": null,
   "metadata": {},
   "outputs": [],
   "source": []
  },
  {
   "cell_type": "markdown",
   "metadata": {},
   "source": [
    "# Q12:"
   ]
  },
  {
   "cell_type": "markdown",
   "metadata": {},
   "source": [
    "Use a dictionary to store information about a person you know.\n",
    "Store their first name, last name, age, and the city in which they live. \n",
    "You should have keys such as first_name, last_name, age, and city. \n",
    "Print each piece of information stored in your dictionary"
   ]
  },
  {
   "cell_type": "code",
   "execution_count": 27,
   "metadata": {},
   "outputs": [
    {
     "name": "stdout",
     "output_type": "stream",
     "text": [
      "Shakeel\n",
      "Haider\n",
      "25\n",
      "karachi\n"
     ]
    }
   ],
   "source": [
    "info = {'first_name' : 'Shakeel', 'last_name' : 'Haider' , 'age' : '25' , 'city' : 'karachi' }\n",
    "\n",
    "print(info['first_name'])\n",
    "print(info['last_name'])\n",
    "print(info['age'])\n",
    "print(info['city'])"
   ]
  },
  {
   "cell_type": "code",
   "execution_count": null,
   "metadata": {},
   "outputs": [],
   "source": []
  },
  {
   "cell_type": "code",
   "execution_count": null,
   "metadata": {},
   "outputs": [],
   "source": []
  },
  {
   "cell_type": "code",
   "execution_count": null,
   "metadata": {},
   "outputs": [],
   "source": []
  },
  {
   "cell_type": "markdown",
   "metadata": {},
   "source": [
    "# Q13:"
   ]
  },
  {
   "cell_type": "markdown",
   "metadata": {},
   "source": [
    "Starts with your last question 12 , loop through the dictionary’s keys and values.\n",
    "When you’re sure that your loop works, add five more Python terms to your\n",
    "dictionary . When you run your program again, these new words and meanings\n",
    "should automatically be included in the output."
   ]
  },
  {
   "cell_type": "code",
   "execution_count": 32,
   "metadata": {},
   "outputs": [
    {
     "name": "stdout",
     "output_type": "stream",
     "text": [
      "Iterating over keys\n",
      "first_name\n",
      "last_name\n",
      "age\n",
      "city\n",
      "Iterating over values\n",
      "Shakeel\n",
      "Haider\n",
      "25\n",
      "karachi\n",
      "iterating over key value pair\n",
      "first_name : Shakeel\n",
      "last_name : Haider\n",
      "age : 25\n",
      "city : karachi\n"
     ]
    }
   ],
   "source": [
    "print('Iterating over keys')\n",
    "\n",
    "for keys in info:\n",
    "    print(keys)\n",
    "\n",
    "print('Iterating over values')\n",
    "\n",
    "for values in info.values():\n",
    "    print(values)\n",
    "\n",
    "print('iterating over key value pair')\n",
    "\n",
    "for key, value in info.items():\n",
    "    print(f'{key} : {value}')"
   ]
  },
  {
   "cell_type": "code",
   "execution_count": 33,
   "metadata": {},
   "outputs": [],
   "source": [
    "info['qualification'] = 'BS Software Engineering'\n",
    "info['experience'] = 'Fresh'\n",
    "info['focus_area'] = 'Machine Learning'\n",
    "info['career'] = 'Zero'"
   ]
  },
  {
   "cell_type": "code",
   "execution_count": 34,
   "metadata": {},
   "outputs": [
    {
     "name": "stdout",
     "output_type": "stream",
     "text": [
      "iterating over key value pair again\n",
      "first_name : Shakeel\n",
      "last_name : Haider\n",
      "age : 25\n",
      "city : karachi\n",
      "qualification : BS Software Engineering\n",
      "experience : Fresh\n",
      "focus_area : Machine Learning\n",
      "career : Zero\n"
     ]
    }
   ],
   "source": [
    "print('iterating over key value pair again')\n",
    "\n",
    "for key, value in info.items():\n",
    "    print(f'{key} : {value}')"
   ]
  },
  {
   "cell_type": "code",
   "execution_count": null,
   "metadata": {},
   "outputs": [],
   "source": []
  },
  {
   "cell_type": "code",
   "execution_count": null,
   "metadata": {},
   "outputs": [],
   "source": []
  },
  {
   "cell_type": "markdown",
   "metadata": {},
   "source": [
    "# Q14:"
   ]
  },
  {
   "cell_type": "markdown",
   "metadata": {},
   "source": [
    "Make a dictionary containing three major rivers and the country\n",
    "each river runs through. One key-value pair might be 'nile': 'egypt'.\n",
    "    \n",
    "    \n",
    "•\t Use a loop to print a sentence about each river, such as The Nile runs\n",
    "through Egypt.\n",
    "\n",
    "NOTE: use upper case through keys and values."
   ]
  },
  {
   "cell_type": "code",
   "execution_count": 37,
   "metadata": {},
   "outputs": [
    {
     "name": "stdout",
     "output_type": "stream",
     "text": [
      "The NILE runs through EGYPT\n",
      "The YANGTZE runs through CHINA\n",
      "The MISSISSIPPI runs through USA\n"
     ]
    }
   ],
   "source": [
    "major_rivers = {'nile' : 'egypt', 'yangtze' : 'china', 'mississippi' : 'usa'}\n",
    "\n",
    "for key, value in major_rivers.items():\n",
    "    print(f\"The {key.upper()} runs through {value.upper()}\")"
   ]
  },
  {
   "cell_type": "code",
   "execution_count": null,
   "metadata": {},
   "outputs": [],
   "source": []
  },
  {
   "cell_type": "code",
   "execution_count": null,
   "metadata": {},
   "outputs": [],
   "source": []
  },
  {
   "cell_type": "markdown",
   "metadata": {},
   "source": [
    "# Q15:"
   ]
  },
  {
   "cell_type": "markdown",
   "metadata": {},
   "source": [
    "Make several dictionaries, where the name of each dictionary is the\n",
    "name of a pet. In each dictionary, include the kind of animal and the owner’s\n",
    "name. Store these dictionaries in a list called pets. Next, loop through your list\n",
    "and as you do print everything you know about each pet."
   ]
  },
  {
   "cell_type": "code",
   "execution_count": 43,
   "metadata": {},
   "outputs": [
    {
     "name": "stdout",
     "output_type": "stream",
     "text": [
      " Name : Dog\n",
      " Kind : Friendly\n",
      " Owner : Zakir Bhai\n",
      "\n",
      " Name : Cat\n",
      " Kind : Friendly\n",
      " Owner : Shakeel\n",
      "\n",
      " Name : Panther\n",
      " Kind : Non-Friendly\n",
      " Owner : Shumail\n",
      "\n",
      " Name : Lion\n",
      " Kind : Non-Friendly\n",
      " Owner : Shujaat\n",
      "\n",
      " Name : Parrot\n",
      " Kind : Bird\n",
      " Owner : Suleman\n",
      "\n"
     ]
    }
   ],
   "source": [
    "dog = {'name' : 'dog', 'kind' : 'friendly', 'owner' : 'zakir bhai'}\n",
    "cat = {'name' : 'cat','kind' : 'friendly', 'owner' : 'shakeel'}\n",
    "panther = {'name' : 'panther','kind' : 'non-friendly', 'owner' : 'shumail'}\n",
    "lion = {'name' : 'lion','kind' : 'non-friendly', 'owner' : 'shujaat'}\n",
    "parrot = {'name' : 'parrot','kind' : 'bird' , 'owner' : 'suleman'}\n",
    "\n",
    "pets = [dog, cat, panther, lion, parrot]\n",
    "\n",
    "for dic in pets:\n",
    "    for key, value in dic.items():\n",
    "        print(f\" {key.title()} : {value.title()}\")\n",
    "    print('',end='\\n')"
   ]
  },
  {
   "cell_type": "code",
   "execution_count": null,
   "metadata": {},
   "outputs": [],
   "source": []
  }
 ],
 "metadata": {
  "kernelspec": {
   "display_name": "Python 3",
   "language": "python",
   "name": "python3"
  },
  "language_info": {
   "codemirror_mode": {
    "name": "ipython",
    "version": 3
   },
   "file_extension": ".py",
   "mimetype": "text/x-python",
   "name": "python",
   "nbconvert_exporter": "python",
   "pygments_lexer": "ipython3",
   "version": "3.7.3"
  }
 },
 "nbformat": 4,
 "nbformat_minor": 2
}
